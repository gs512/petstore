{
 "cells": [
  {
   "cell_type": "code",
   "execution_count": 9,
   "id": "f364ece1",
   "metadata": {},
   "outputs": [],
   "source": [
    "import json\n",
    "from time import sleep\n",
    "from kafka import KafkaConsumer, KafkaProducer\n",
    "from json import loads"
   ]
  },
  {
   "cell_type": "code",
   "execution_count": 6,
   "id": "5d92f843",
   "metadata": {},
   "outputs": [],
   "source": [
    "BOOSTRAP_SERVERS = ['localhost:29092']\n",
    "\n",
    "def publish_message(producer_instance, topic_name, key, value):\n",
    "    try:\n",
    "        key_bytes = bytes(key, encoding='utf-8')\n",
    "        value_bytes = bytes(value, encoding='utf-8')\n",
    "        producer_instance.send(topic_name, key=key_bytes, value=value_bytes)\n",
    "        producer_instance.flush()\n",
    "        print('Message published successfully.')\n",
    "    except Exception as ex:\n",
    "        print('Exception in publishing message')\n",
    "        print(str(ex))\n",
    "\n",
    "\n",
    "def connect_kafka_producer():\n",
    "    _producer = None\n",
    "    try:\n",
    "        _producer = KafkaProducer(bootstrap_servers=BOOSTRAP_SERVERS)\n",
    "    except Exception as ex:\n",
    "        print('Exception while connecting Kafka')\n",
    "        print(str(ex))\n",
    "    finally:\n",
    "        return _producer\n",
    "\n",
    "def parse(markup):\n",
    "    rec = {}\n",
    "    try:\n",
    "\n",
    "        soup = None\n",
    "\n",
    "    except Exception as ex:\n",
    "        print('Exception while parsing')\n",
    "        print(str(ex))\n",
    "    finally:\n",
    "        return json.dumps(rec)"
   ]
  },
  {
   "cell_type": "code",
   "execution_count": 13,
   "id": "06e9a4d0",
   "metadata": {},
   "outputs": [
    {
     "data": {
      "text/plain": [
       "<kafka.producer.future.FutureRecordMetadata at 0x1114647f0>"
      ]
     },
     "execution_count": 13,
     "metadata": {},
     "output_type": "execute_result"
    }
   ],
   "source": [
    "producer = connect_kafka_producer()\n",
    "# producer.send(topic_name, b'boom')\n",
    "publish_message(producer, topic_name, 'message','hello world')"
   ]
  },
  {
   "cell_type": "code",
   "execution_count": 14,
   "id": "68929dfe",
   "metadata": {},
   "outputs": [
    {
     "name": "stdout",
     "output_type": "stream",
     "text": [
      "b'Hello World!'\n",
      "b\"I'm a producer\"\n",
      "b'boom'\n"
     ]
    }
   ],
   "source": [
    "consumer = KafkaConsumer(topic_name, auto_offset_reset='earliest',\n",
    "                         bootstrap_servers=['localhost:29092'],consumer_timeout_ms=1000)\n",
    "for msg in consumer:\n",
    "    print(msg.value)\n",
    "consumer.close()\n",
    "sleep(5)"
   ]
  }
 ],
 "metadata": {
  "kernelspec": {
   "display_name": "Python 3 (ipykernel)",
   "language": "python",
   "name": "python3"
  },
  "language_info": {
   "codemirror_mode": {
    "name": "ipython",
    "version": 3
   },
   "file_extension": ".py",
   "mimetype": "text/x-python",
   "name": "python",
   "nbconvert_exporter": "python",
   "pygments_lexer": "ipython3",
   "version": "3.9.6"
  }
 },
 "nbformat": 4,
 "nbformat_minor": 5
}
